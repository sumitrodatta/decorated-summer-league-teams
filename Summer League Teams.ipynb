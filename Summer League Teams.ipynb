{
 "cells": [
  {
   "cell_type": "code",
   "execution_count": null,
   "id": "845cf598-11d5-4275-a7c6-b035024c890e",
   "metadata": {},
   "outputs": [],
   "source": [
    "import nba_api\n",
    "from nba_api.stats.endpoints import leaguegamefinder,boxscoretraditionalv3,playercareerstats\n",
    "from nba_api.stats.static import teams\n",
    "import pandas as pd\n",
    "import numpy as np\n",
    "import time"
   ]
  },
  {
   "cell_type": "code",
   "execution_count": null,
   "id": "fa28e2c0-dc74-4ca1-b28d-7fa38115c77b",
   "metadata": {},
   "outputs": [],
   "source": [
    "all_teams = teams.get_teams()\n",
    "team_ids = [team['id'] for team in all_teams]"
   ]
  },
  {
   "cell_type": "code",
   "execution_count": null,
   "id": "7869843a-0e97-4892-a182-9f95f329af86",
   "metadata": {},
   "outputs": [],
   "source": [
    "games=pd.DataFrame()"
   ]
  },
  {
   "cell_type": "code",
   "execution_count": null,
   "id": "8a84f8df-df17-4db4-b73d-84068c07127b",
   "metadata": {},
   "outputs": [],
   "source": [
    "for team_id in team_ids:\n",
    "    team_games = leaguegamefinder.LeagueGameFinder(team_id_nullable=team_id).get_data_frames()[0]\n",
    "    games=pd.concat([games,team_games])\n",
    "    print(team_id)\n",
    "    time.sleep(0.6)"
   ]
  },
  {
   "cell_type": "code",
   "execution_count": null,
   "id": "65d7fe2e-d72c-4110-b330-d21ba112f7e9",
   "metadata": {},
   "outputs": [],
   "source": [
    "games.head()"
   ]
  },
  {
   "cell_type": "code",
   "execution_count": null,
   "id": "81e58ee3-e0ea-4913-a57b-a7ad1ad8e24c",
   "metadata": {
    "scrolled": true
   },
   "outputs": [],
   "source": [
    "unique_game_ids = list(set(games.GAME_ID))"
   ]
  },
  {
   "cell_type": "code",
   "execution_count": null,
   "id": "6b5ab103-07b9-44ab-a7e1-78cf22323e4c",
   "metadata": {},
   "outputs": [],
   "source": [
    "len(unique_game_ids)"
   ]
  },
  {
   "cell_type": "code",
   "execution_count": null,
   "id": "f68d2ad3-c7c1-4129-8d52-289ab64fb353",
   "metadata": {},
   "outputs": [],
   "source": [
    "summer_league_games=[game for game in unique_game_ids if game.startswith('15')]"
   ]
  },
  {
   "cell_type": "code",
   "execution_count": null,
   "id": "f93de7f5-3dd7-498e-8887-5d5e7364ce0f",
   "metadata": {},
   "outputs": [],
   "source": [
    "summer_league_box_scores=pd.DataFrame()"
   ]
  },
  {
   "cell_type": "code",
   "execution_count": null,
   "id": "6da54064-a150-410b-a9aa-54047e885fe8",
   "metadata": {
    "scrolled": true
   },
   "outputs": [],
   "source": [
    "for game in summer_league_games:\n",
    "    summer_league_box_scores=pd.concat(\n",
    "        [summer_league_box_scores,boxscoretraditionalv3.BoxScoreTraditionalV3(game).get_data_frames()[0]]\n",
    "    )\n",
    "    print(game)\n",
    "    time.sleep(0.6)"
   ]
  },
  {
   "cell_type": "code",
   "execution_count": null,
   "id": "4dd421d0-e16d-448a-aab9-40647fe28d0e",
   "metadata": {},
   "outputs": [],
   "source": [
    "summer_league_players=summer_league_box_scores.personId.unique().tolist()"
   ]
  },
  {
   "cell_type": "code",
   "execution_count": null,
   "id": "cd05cb41-a308-4633-a358-b8913a376f7e",
   "metadata": {},
   "outputs": [],
   "source": [
    "len(summer_league_players)"
   ]
  },
  {
   "cell_type": "code",
   "execution_count": null,
   "id": "854ae58c-8377-4564-b6b6-7797384c0b4c",
   "metadata": {},
   "outputs": [],
   "source": [
    "summer_league_player_career_stats=pd.DataFrame()"
   ]
  },
  {
   "cell_type": "code",
   "execution_count": null,
   "id": "50ac4158-c85f-4527-a525-e869b659840a",
   "metadata": {
    "scrolled": true
   },
   "outputs": [],
   "source": [
    "for player in summer_league_players:\n",
    "    summer_league_player_career_stats=pd.concat(\n",
    "        [summer_league_player_career_stats,playercareerstats.PlayerCareerStats(player).get_data_frames()[1]]\n",
    "    )\n",
    "    print(player)\n",
    "    time.sleep(0.6)"
   ]
  },
  {
   "cell_type": "code",
   "execution_count": null,
   "id": "d04e85d7-820d-41e4-b79e-58b5fb1450ff",
   "metadata": {},
   "outputs": [],
   "source": [
    "last_scraped_player_id=summer_league_player_career_stats.PLAYER_ID.tolist()[-1]\n",
    "last_scraped_player_id_index=summer_league_players.index(last_scraped_player_id)\n",
    "summer_league_players_not_scraped_yet=summer_league_players[last_scraped_player_id_index+1:]"
   ]
  },
  {
   "cell_type": "code",
   "execution_count": null,
   "id": "a2a808b4-d568-4eda-a4ac-9d39577b959d",
   "metadata": {},
   "outputs": [],
   "source": [
    "len(summer_league_players_not_scraped_yet)"
   ]
  },
  {
   "cell_type": "code",
   "execution_count": null,
   "id": "b42249a2-d320-4d5a-856f-6ac5d3c7ffe9",
   "metadata": {
    "scrolled": true
   },
   "outputs": [],
   "source": [
    "for player in summer_league_players_not_scraped_yet:\n",
    "    summer_league_player_career_stats=pd.concat(\n",
    "        [summer_league_player_career_stats,playercareerstats.PlayerCareerStats(player).get_data_frames()[1]]\n",
    "    )\n",
    "    print(player)\n",
    "    time.sleep(1)"
   ]
  },
  {
   "cell_type": "code",
   "execution_count": null,
   "id": "f2589713-8da9-46cd-9abd-40dcdacbe8aa",
   "metadata": {},
   "outputs": [],
   "source": [
    "summer_league_player_career_stats.head()"
   ]
  },
  {
   "cell_type": "code",
   "execution_count": null,
   "id": "a15f5bab-5104-48ae-bb6f-742a6f5388f9",
   "metadata": {},
   "outputs": [],
   "source": [
    "player_ids_w_nba_stats=summer_league_player_career_stats.PLAYER_ID.tolist()\n",
    "player_yoy_stats=pd.DataFrame()"
   ]
  },
  {
   "cell_type": "code",
   "execution_count": null,
   "id": "eba19569-1221-45b1-b877-6d87ed41dcaa",
   "metadata": {
    "scrolled": true
   },
   "outputs": [],
   "source": [
    "for player in player_ids_w_nba_stats:\n",
    "    player_yoy_stats=pd.concat(\n",
    "        [player_yoy_stats,playercareerstats.PlayerCareerStats(player).get_data_frames()[0]]\n",
    "    )\n",
    "    print(player)\n",
    "    time.sleep(0.6)"
   ]
  },
  {
   "cell_type": "code",
   "execution_count": null,
   "id": "63a9ed08-56e9-4813-9797-ed8cd52c3ad9",
   "metadata": {},
   "outputs": [],
   "source": [
    "last_scraped_player_yoy_id=player_yoy_stats.PLAYER_ID.tolist()[-1]\n",
    "last_scraped_player_yoy_id_index=player_ids_w_nba_stats.index(last_scraped_player_yoy_id)\n",
    "players_yoy_not_scraped_yet=player_ids_w_nba_stats[last_scraped_player_yoy_id_index+1:]"
   ]
  },
  {
   "cell_type": "code",
   "execution_count": null,
   "id": "804dd337-596a-44b1-8a98-913cc924a8d7",
   "metadata": {},
   "outputs": [],
   "source": [
    "len(players_yoy_not_scraped_yet)"
   ]
  },
  {
   "cell_type": "code",
   "execution_count": null,
   "id": "a8f1e35d-120e-461b-bd16-b74ec2a162e7",
   "metadata": {
    "scrolled": true
   },
   "outputs": [],
   "source": [
    "for player in players_yoy_not_scraped_yet:\n",
    "    player_yoy_stats=pd.concat(\n",
    "        [player_yoy_stats,playercareerstats.PlayerCareerStats(player).get_data_frames()[0]]\n",
    "    )\n",
    "    print(player)\n",
    "    time.sleep(0.6)"
   ]
  },
  {
   "cell_type": "code",
   "execution_count": null,
   "id": "af569466-ecaf-4922-99ad-2ff5b12606c3",
   "metadata": {},
   "outputs": [],
   "source": [
    "player_yoy_stats.head()"
   ]
  },
  {
   "cell_type": "code",
   "execution_count": null,
   "id": "2f6f1a7c-60ee-4da8-9be6-bb6fa952ec52",
   "metadata": {},
   "outputs": [],
   "source": [
    "games.to_csv('Input Data/Game Info.csv',index=False)\n",
    "summer_league_player_career_stats.to_csv('Input Data/Summer League Player Stats.csv',index=False)\n",
    "summer_league_box_scores.to_csv('Input Data/Summer League Box Scores.csv',index=False)\n",
    "player_yoy_stats.to_csv('Input Data/Summer League Player YOY Stats.csv',index=False)"
   ]
  },
  {
   "cell_type": "code",
   "execution_count": null,
   "id": "f2e9a943-88e4-4f3e-a64d-af453e5ed0ef",
   "metadata": {},
   "outputs": [],
   "source": []
  }
 ],
 "metadata": {
  "kernelspec": {
   "display_name": "Python [conda env:base] *",
   "language": "python",
   "name": "conda-base-py"
  },
  "language_info": {
   "codemirror_mode": {
    "name": "ipython",
    "version": 3
   },
   "file_extension": ".py",
   "mimetype": "text/x-python",
   "name": "python",
   "nbconvert_exporter": "python",
   "pygments_lexer": "ipython3",
   "version": "3.11.8"
  }
 },
 "nbformat": 4,
 "nbformat_minor": 5
}
